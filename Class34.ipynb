{
 "cells": [
  {
   "cell_type": "markdown",
   "metadata": {},
   "source": [
    "# Class 34 - Program Development and Algorithms \n",
    "**COMP130 - Introduction to Computing**  \n",
    "**Dickinson College**  "
   ]
  },
  {
   "cell_type": "markdown",
   "metadata": {},
   "source": [
    "### Names:"
   ]
  },
  {
   "cell_type": "markdown",
   "metadata": {},
   "source": []
  },
  {
   "cell_type": "markdown",
   "metadata": {},
   "source": [
    "### Tic-Tac-Toe\n",
    "\n",
    "This assignment asks you to implement a [Tic-Tac-Toe game](https://www.exploratorium.edu/brain_explorer/tictactoe.html) were one player will be a human and the computer will be the other player."
   ]
  },
  {
   "cell_type": "markdown",
   "metadata": {},
   "source": [
    "### The Assignment\n",
    "\n",
    "Write a program in the file __tictactoe.py__ in the __Class34__ directory that plays tic-tac-toe.  Your initial program should:\n",
    "- Use a nested list to represent the board.\n",
    "  - E.g. The empty board would be:  `[' ', ' ', ' '],[' ', ' ', ' '],[' ', ' ', ' ']]`\n",
    "- Have the human player go first and be X.\n",
    "- Have the computer player go second and be O.\n",
    "  - The computer should play randomly for now.\n",
    "- Have the human player enter their move using the form 1,3 to place an X in row 1, column 3.\n",
    "- Print the board before before each turn for the human player.\n",
    "- Detect when either the human or the computer has won the game.\n",
    "\n",
    "In addition the program should:\n",
    "- be tolerant of invalid choices and ask again if an invalid value is entered by the user (e.g. off the board, or an already occupied space).\n",
    "- reflect good design (readability, encapsulation, generalization, clean interfaces)"
   ]
  },
  {
   "cell_type": "markdown",
   "metadata": {},
   "source": [
    "###  The Process\n",
    "\n",
    "The best approach here is to use the *incremental development* process described in Class 19 and 20.\n",
    "- __Sketch:__ Sketch out the program and identify functions.\n",
    "- __Stub:__ Write a function stub (name, parameters, prints, return dummy value) and call it with dummy arguments.\n",
    "- __Expand:__ Expand and hand test each small bit of functionality as it is added.\n",
    "  - Debug, adding scaffolding (intermediate variables and prints) as necessary\n",
    "  - Iterate\n",
    "- __Test:__ Produce automated tests for the function to facilitate refactoring.\n",
    "- __Guard:__ Add assert based guardians to ensure function can complete its task.\n",
    "- __Improve:__ Refactor the program and the functions.\n",
    "  - Readability, Encapsulation, Generalization, Efficiency"
   ]
  },
  {
   "cell_type": "markdown",
   "metadata": {},
   "source": [
    "### A Possible Transcript of the Program \n",
    "\n",
    "The output of a working program might be similar to the following:\n",
    "\n",
    "```\n",
    "Let's Play Tic-Tac-Toe!\n",
    "\n",
    "You are X the computer is O.\n",
    "\n",
    "   |   |   \n",
    "---+---+---\n",
    "   |   |   \n",
    "---+---+---\n",
    "   |   |\n",
    "   \n",
    "Where would you like to move: 1,3\n",
    "The computer chooses 3,3\n",
    "\n",
    "   |   | X \n",
    "---+---+---\n",
    "   |   |   \n",
    "---+---+---\n",
    "   |   | O\n",
    "\n",
    "Where would you like to move: 2,2\n",
    "The computer chooses 1,2\n",
    "\n",
    "   |   | X \n",
    "---+---+---\n",
    " O | X |   \n",
    "---+---+---\n",
    "   |   | O\n",
    "   \n",
    "Where would you like to move: 3,1\n",
    "You Win!\n",
    "\n",
    "   |   | X \n",
    "---+---+---\n",
    " O | X |   \n",
    "---+---+---\n",
    " X |   | O\n",
    "```"
   ]
  },
  {
   "cell_type": "markdown",
   "metadata": {},
   "source": [
    "### Additional Optional Features:\n",
    "- Allow the human player to choose X or O at the start of the game.\n",
    "- Choose randomly if the human player or the computer player goes first.\n",
    "- Improve the computer player so that it uses a strategy instead of playing randomly.\n",
    "- Use `graphics.py` to:\n",
    "  - Display the board graphically.\n",
    "  - Allow the user to click the mouse in the space for each move."
   ]
  }
 ],
 "metadata": {
  "kernelspec": {
   "display_name": "Python 3",
   "language": "python",
   "name": "python3"
  },
  "language_info": {
   "codemirror_mode": {
    "name": "ipython",
    "version": 3
   },
   "file_extension": ".py",
   "mimetype": "text/x-python",
   "name": "python",
   "nbconvert_exporter": "python",
   "pygments_lexer": "ipython3",
   "version": "3.7.3"
  }
 },
 "nbformat": 4,
 "nbformat_minor": 2
}
